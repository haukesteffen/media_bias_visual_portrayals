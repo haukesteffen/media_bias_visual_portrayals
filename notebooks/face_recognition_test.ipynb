{
 "cells": [
  {
   "cell_type": "code",
   "execution_count": 15,
   "metadata": {},
   "outputs": [],
   "source": [
    "import numpy as np"
   ]
  },
  {
   "cell_type": "code",
   "execution_count": 16,
   "metadata": {},
   "outputs": [],
   "source": [
    "import face_recognition\n",
    "\n",
    "known_image = face_recognition.load_image_file(\"../data/test/annalena_baerbock_0.jpeg\")\n",
    "unknown_image_0 = face_recognition.load_image_file(\"../data/test/annalena_baerbock_2.jpeg\")\n",
    "unknown_image_1 = face_recognition.load_image_file(\"../data/test/olaf_scholz_0.jpeg\")\n",
    "unknown_image_2 = face_recognition.load_image_file(\"../data/test/armin_laschet_0.jpeg\")\n",
    "unknown_image_3 = face_recognition.load_image_file(\"../data/test/other_0.jpeg\")\n",
    "\n",
    "baerbock_encoding = face_recognition.face_encodings(known_image)[0]\n",
    "unknown_encoding_0 = face_recognition.face_encodings(unknown_image_0)[0]\n",
    "unknown_encoding_1 = face_recognition.face_encodings(unknown_image_1)[0]\n",
    "unknown_encoding_2 = face_recognition.face_encodings(unknown_image_2)[0]\n",
    "unknown_encoding_3 = face_recognition.face_encodings(unknown_image_3)[0]\n",
    "\n",
    "result_0 = face_recognition.compare_faces([baerbock_encoding], unknown_encoding_0)\n",
    "result_1 = face_recognition.compare_faces([baerbock_encoding], unknown_encoding_1)\n",
    "result_2 = face_recognition.compare_faces([baerbock_encoding], unknown_encoding_2)\n",
    "result_3 = face_recognition.compare_faces([baerbock_encoding], unknown_encoding_3)"
   ]
  },
  {
   "cell_type": "code",
   "execution_count": 17,
   "metadata": {},
   "outputs": [
    {
     "name": "stdout",
     "output_type": "stream",
     "text": [
      "[True]\n",
      "[False]\n",
      "[False]\n",
      "[False]\n"
     ]
    }
   ],
   "source": [
    "for result in [result_0, result_1, result_2, result_3]:\n",
    "    print(result)"
   ]
  }
 ],
 "metadata": {
  "kernelspec": {
   "display_name": "visualportrayals",
   "language": "python",
   "name": "python3"
  },
  "language_info": {
   "codemirror_mode": {
    "name": "ipython",
    "version": 3
   },
   "file_extension": ".py",
   "mimetype": "text/x-python",
   "name": "python",
   "nbconvert_exporter": "python",
   "pygments_lexer": "ipython3",
   "version": "3.11.0"
  },
  "orig_nbformat": 4,
  "vscode": {
   "interpreter": {
    "hash": "5ca051ee0de84c7b0362ffc479100429a42289b00c3724c0cfe5a4d0ed417d97"
   }
  }
 },
 "nbformat": 4,
 "nbformat_minor": 2
}
