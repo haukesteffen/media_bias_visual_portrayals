{
 "cells": [
  {
   "cell_type": "code",
   "execution_count": 16,
   "metadata": {},
   "outputs": [],
   "source": [
    "from deepface import DeepFace"
   ]
  },
  {
   "cell_type": "code",
   "execution_count": 17,
   "metadata": {},
   "outputs": [
    {
     "name": "stderr",
     "output_type": "stream",
     "text": [
      "Action: emotion: 100%|██████████| 4/4 [00:00<00:00, 19.25it/s]\n"
     ]
    }
   ],
   "source": [
    "objs = DeepFace.analyze(img_path = \"../data/training/annalena_baerbock.jpg\", \n",
    "        actions = ['age', 'gender', 'race', 'emotion']\n",
    ")"
   ]
  },
  {
   "cell_type": "code",
   "execution_count": 18,
   "metadata": {},
   "outputs": [
    {
     "data": {
      "text/plain": [
       "[{'age': 45,\n",
       "  'region': {'x': 612, 'y': 173, 'w': 407, 'h': 407},\n",
       "  'gender': {'Woman': 99.99692440032959, 'Man': 0.003070640013902448},\n",
       "  'dominant_gender': 'Woman',\n",
       "  'race': {'asian': 9.256599098443985,\n",
       "   'indian': 2.5102710351347923,\n",
       "   'black': 0.8899078704416752,\n",
       "   'white': 34.495729207992554,\n",
       "   'middle eastern': 10.909055918455124,\n",
       "   'latino hispanic': 41.93843603134155},\n",
       "  'dominant_race': 'latino hispanic',\n",
       "  'emotion': {'angry': 1.6395260625795163,\n",
       "   'disgust': 0.0007563302002080091,\n",
       "   'fear': 4.325152073809628,\n",
       "   'happy': 45.89186882328205,\n",
       "   'sad': 0.6296575444732633,\n",
       "   'surprise': 0.6788221592499113,\n",
       "   'neutral': 46.8342212935818},\n",
       "  'dominant_emotion': 'neutral'}]"
      ]
     },
     "execution_count": 18,
     "metadata": {},
     "output_type": "execute_result"
    }
   ],
   "source": [
    "objs"
   ]
  }
 ],
 "metadata": {
  "kernelspec": {
   "display_name": "visualportrayals",
   "language": "python",
   "name": "python3"
  },
  "language_info": {
   "codemirror_mode": {
    "name": "ipython",
    "version": 3
   },
   "file_extension": ".py",
   "mimetype": "text/x-python",
   "name": "python",
   "nbconvert_exporter": "python",
   "pygments_lexer": "ipython3",
   "version": "3.10.9"
  },
  "orig_nbformat": 4,
  "vscode": {
   "interpreter": {
    "hash": "5ca051ee0de84c7b0362ffc479100429a42289b00c3724c0cfe5a4d0ed417d97"
   }
  }
 },
 "nbformat": 4,
 "nbformat_minor": 2
}
