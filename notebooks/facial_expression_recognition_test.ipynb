{
 "cells": [
  {
   "cell_type": "code",
   "execution_count": 12,
   "metadata": {},
   "outputs": [
    {
     "name": "stdout",
     "output_type": "stream",
     "text": [
      "Directory  /Users/hs /.deepface created\n",
      "Directory  /Users/hs /.deepface/weights created\n"
     ]
    }
   ],
   "source": [
    "from deepface import DeepFace"
   ]
  },
  {
   "cell_type": "code",
   "execution_count": 13,
   "metadata": {},
   "outputs": [
    {
     "name": "stdout",
     "output_type": "stream",
     "text": [
      "Metal device set to: Apple M1 Pro\n",
      "\n",
      "systemMemory: 16.00 GB\n",
      "maxCacheSize: 5.33 GB\n",
      "\n",
      "facial_expression_model_weights.h5 will be downloaded...\n"
     ]
    },
    {
     "name": "stderr",
     "output_type": "stream",
     "text": [
      "Downloading...\n",
      "From: https://github.com/serengil/deepface_models/releases/download/v1.0/facial_expression_model_weights.h5\n",
      "To: /Users/hs/.deepface/weights/facial_expression_model_weights.h5\n",
      "100%|██████████| 5.98M/5.98M [00:02<00:00, 2.14MB/s]\n"
     ]
    },
    {
     "name": "stdout",
     "output_type": "stream",
     "text": [
      "age_model_weights.h5 will be downloaded...\n"
     ]
    },
    {
     "name": "stderr",
     "output_type": "stream",
     "text": [
      "Downloading...\n",
      "From: https://github.com/serengil/deepface_models/releases/download/v1.0/age_model_weights.h5\n",
      "To: /Users/hs/.deepface/weights/age_model_weights.h5\n",
      "100%|██████████| 539M/539M [04:32<00:00, 1.98MB/s] \n"
     ]
    },
    {
     "name": "stdout",
     "output_type": "stream",
     "text": [
      "gender_model_weights.h5 will be downloaded...\n"
     ]
    },
    {
     "name": "stderr",
     "output_type": "stream",
     "text": [
      "Downloading...\n",
      "From: https://github.com/serengil/deepface_models/releases/download/v1.0/gender_model_weights.h5\n",
      "To: /Users/hs/.deepface/weights/gender_model_weights.h5\n",
      "100%|██████████| 537M/537M [02:49<00:00, 3.16MB/s] \n"
     ]
    },
    {
     "name": "stdout",
     "output_type": "stream",
     "text": [
      "race_model_single_batch.h5 will be downloaded...\n"
     ]
    },
    {
     "name": "stderr",
     "output_type": "stream",
     "text": [
      "Downloading...\n",
      "From: https://github.com/serengil/deepface_models/releases/download/v1.0/race_model_single_batch.h5\n",
      "To: /Users/hs/.deepface/weights/race_model_single_batch.h5\n",
      "100%|██████████| 537M/537M [02:17<00:00, 3.91MB/s] \n",
      "Action: emotion: 100%|██████████| 4/4 [00:01<00:00,  2.11it/s]\n"
     ]
    }
   ],
   "source": [
    "objs = DeepFace.analyze(img_path = \"../data/training/annalena_baerbock.jpg\", \n",
    "        actions = ['age', 'gender', 'race', 'emotion']\n",
    ")"
   ]
  },
  {
   "cell_type": "code",
   "execution_count": 15,
   "metadata": {},
   "outputs": [
    {
     "data": {
      "text/plain": [
       "[{'age': 45,\n",
       "  'region': {'x': 612, 'y': 173, 'w': 407, 'h': 407},\n",
       "  'gender': {'Woman': 99.99692440032959, 'Man': 0.003070640013902448},\n",
       "  'dominant_gender': 'Woman',\n",
       "  'race': {'asian': 9.256599098443985,\n",
       "   'indian': 2.5102710351347923,\n",
       "   'black': 0.8899078704416752,\n",
       "   'white': 34.495729207992554,\n",
       "   'middle eastern': 10.909055918455124,\n",
       "   'latino hispanic': 41.93843603134155},\n",
       "  'dominant_race': 'latino hispanic',\n",
       "  'emotion': {'angry': 1.6395260625795163,\n",
       "   'disgust': 0.0007563302002080091,\n",
       "   'fear': 4.325152073809628,\n",
       "   'happy': 45.89186882328205,\n",
       "   'sad': 0.6296575444732633,\n",
       "   'surprise': 0.6788221592499113,\n",
       "   'neutral': 46.8342212935818},\n",
       "  'dominant_emotion': 'neutral'}]"
      ]
     },
     "execution_count": 15,
     "metadata": {},
     "output_type": "execute_result"
    }
   ],
   "source": [
    "objs"
   ]
  }
 ],
 "metadata": {
  "kernelspec": {
   "display_name": "visualportrayals",
   "language": "python",
   "name": "python3"
  },
  "language_info": {
   "codemirror_mode": {
    "name": "ipython",
    "version": 3
   },
   "file_extension": ".py",
   "mimetype": "text/x-python",
   "name": "python",
   "nbconvert_exporter": "python",
   "pygments_lexer": "ipython3",
   "version": "3.10.9"
  },
  "orig_nbformat": 4,
  "vscode": {
   "interpreter": {
    "hash": "5ca051ee0de84c7b0362ffc479100429a42289b00c3724c0cfe5a4d0ed417d97"
   }
  }
 },
 "nbformat": 4,
 "nbformat_minor": 2
}
